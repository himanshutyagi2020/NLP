{
  "nbformat": 4,
  "nbformat_minor": 0,
  "metadata": {
    "colab": {
      "name": "Txt Summarization.ipynb",
      "provenance": [],
      "collapsed_sections": [],
      "authorship_tag": "ABX9TyM3QUurvC788F82u+pQC9o9",
      "include_colab_link": true
    },
    "kernelspec": {
      "name": "python3",
      "display_name": "Python 3"
    },
    "language_info": {
      "name": "python"
    }
  },
  "cells": [
    {
      "cell_type": "markdown",
      "metadata": {
        "id": "view-in-github",
        "colab_type": "text"
      },
      "source": [
        "<a href=\"https://colab.research.google.com/github/himanshutyagi2020/NLP/blob/main/Txt_Summarization.ipynb\" target=\"_parent\"><img src=\"https://colab.research.google.com/assets/colab-badge.svg\" alt=\"Open In Colab\"/></a>"
      ]
    },
    {
      "cell_type": "code",
      "metadata": {
        "id": "JtkkauWUVLUn"
      },
      "source": [
        "text= \"Maria Sharapova is not just one of the world’s top tennis players. Maria Sharapova with five Grand Slam titles and the 22nd seed in the 2018 U.S. Open in which she won her second round late Thursday night —but a brilliant business woman with a net worth estimated to be high as $195 million and earning over $10 million.A few nights ago, I had the chance to interview her as she headlined a swanky Manhattan rooftop party, and to learn a few of her career-building secrets. Any entrepreneur would do well to take them to heart.\""
      ],
      "execution_count": 70,
      "outputs": []
    },
    {
      "cell_type": "code",
      "metadata": {
        "colab": {
          "base_uri": "https://localhost:8080/"
        },
        "id": "vRej2CHuzdkC",
        "outputId": "df343052-a602-414f-835a-be5fdabc2cbf"
      },
      "source": [
        "len(text)"
      ],
      "execution_count": 71,
      "outputs": [
        {
          "output_type": "execute_result",
          "data": {
            "text/plain": [
              "527"
            ]
          },
          "metadata": {},
          "execution_count": 71
        }
      ]
    },
    {
      "cell_type": "code",
      "metadata": {
        "id": "7bZd6d2wziBf"
      },
      "source": [
        "import spacy \n",
        "from spacy.lang.en.stop_words import STOP_WORDS\n",
        "from string import punctuation"
      ],
      "execution_count": 72,
      "outputs": []
    },
    {
      "cell_type": "code",
      "metadata": {
        "id": "k684rcAR0Wsm"
      },
      "source": [
        "nlp = spacy.load(\"en_core_web_sm\")"
      ],
      "execution_count": 73,
      "outputs": []
    },
    {
      "cell_type": "code",
      "metadata": {
        "id": "QIhLe8s60r4x"
      },
      "source": [
        "doc = nlp(text)"
      ],
      "execution_count": 74,
      "outputs": []
    },
    {
      "cell_type": "code",
      "metadata": {
        "colab": {
          "base_uri": "https://localhost:8080/"
        },
        "id": "-609vzah00Mh",
        "outputId": "7fa2d5f3-778f-4045-d75c-68888627c11a"
      },
      "source": [
        "tokens = [token.text for token in doc]\n",
        "print(tokens)"
      ],
      "execution_count": 75,
      "outputs": [
        {
          "output_type": "stream",
          "name": "stdout",
          "text": [
            "['Maria', 'Sharapova', 'is', 'not', 'just', 'one', 'of', 'the', 'world', '’s', 'top', 'tennis', 'players', '.', 'Maria', 'Sharapova', 'with', 'five', 'Grand', 'Slam', 'titles', 'and', 'the', '22nd', 'seed', 'in', 'the', '2018', 'U.S.', 'Open', 'in', 'which', 'she', 'won', 'her', 'second', 'round', 'late', 'Thursday', 'night', '—', 'but', 'a', 'brilliant', 'business', 'woman', 'with', 'a', 'net', 'worth', 'estimated', 'to', 'be', 'high', 'as', '$', '195', 'million', 'and', 'earning', 'over', '$', '10', 'million', '.', 'A', 'few', 'nights', 'ago', ',', 'I', 'had', 'the', 'chance', 'to', 'interview', 'her', 'as', 'she', 'headlined', 'a', 'swanky', 'Manhattan', 'rooftop', 'party', ',', 'and', 'to', 'learn', 'a', 'few', 'of', 'her', 'career', '-', 'building', 'secrets', '.', 'Any', 'entrepreneur', 'would', 'do', 'well', 'to', 'take', 'them', 'to', 'heart', '.']\n"
          ]
        }
      ]
    },
    {
      "cell_type": "code",
      "metadata": {
        "colab": {
          "base_uri": "https://localhost:8080/",
          "height": 35
        },
        "id": "f_uYINDQ0__r",
        "outputId": "c2315e07-9d87-464f-cefe-38c0008a8c89"
      },
      "source": [
        "punctuation"
      ],
      "execution_count": 76,
      "outputs": [
        {
          "output_type": "execute_result",
          "data": {
            "application/vnd.google.colaboratory.intrinsic+json": {
              "type": "string"
            },
            "text/plain": [
              "'!\"#$%&\\'()*+,-./:;<=>?@[\\\\]^_`{|}~'"
            ]
          },
          "metadata": {},
          "execution_count": 76
        }
      ]
    },
    {
      "cell_type": "code",
      "metadata": {
        "id": "HUgFgUIS1FQO"
      },
      "source": [
        "punctuation = punctuation + '\\n'"
      ],
      "execution_count": 77,
      "outputs": []
    },
    {
      "cell_type": "code",
      "metadata": {
        "colab": {
          "base_uri": "https://localhost:8080/",
          "height": 35
        },
        "id": "LCEwDzTL1N_t",
        "outputId": "e298850e-5d3e-4ea0-9d68-24bf1eb8c55f"
      },
      "source": [
        "punctuation"
      ],
      "execution_count": 78,
      "outputs": [
        {
          "output_type": "execute_result",
          "data": {
            "application/vnd.google.colaboratory.intrinsic+json": {
              "type": "string"
            },
            "text/plain": [
              "'!\"#$%&\\'()*+,-./:;<=>?@[\\\\]^_`{|}~\\n'"
            ]
          },
          "metadata": {},
          "execution_count": 78
        }
      ]
    },
    {
      "cell_type": "code",
      "metadata": {
        "id": "7dUZzBVR1Qf7"
      },
      "source": [
        "word_freq = {}\n",
        "stop_words = list(STOP_WORDS)\n",
        "for word in doc:\n",
        "  if word.text.lower() not in stop_words:\n",
        "    if word.text.lower() not in punctuation:\n",
        "      if word.text not in word_freq.keys():\n",
        "         word_freq[word.text] = 1\n",
        "      else:\n",
        "         word_freq[word.text] += 1\n",
        "  \n",
        "\n",
        "\n"
      ],
      "execution_count": 79,
      "outputs": []
    },
    {
      "cell_type": "code",
      "metadata": {
        "colab": {
          "base_uri": "https://localhost:8080/"
        },
        "id": "6nRyuphmd8Z9",
        "outputId": "2e6f989b-7e8a-4e09-ef90-3a04d984f352"
      },
      "source": [
        "print(word_freq)"
      ],
      "execution_count": 80,
      "outputs": [
        {
          "output_type": "stream",
          "name": "stdout",
          "text": [
            "{'Maria': 2, 'Sharapova': 2, 'world': 1, 'tennis': 1, 'players': 1, 'Grand': 1, 'Slam': 1, 'titles': 1, '22nd': 1, 'seed': 1, '2018': 1, 'U.S.': 1, 'Open': 1, 'won': 1, 'second': 1, 'round': 1, 'late': 1, 'Thursday': 1, 'night': 1, '—': 1, 'brilliant': 1, 'business': 1, 'woman': 1, 'net': 1, 'worth': 1, 'estimated': 1, 'high': 1, '195': 1, 'million': 2, 'earning': 1, '10': 1, 'nights': 1, 'ago': 1, 'chance': 1, 'interview': 1, 'headlined': 1, 'swanky': 1, 'Manhattan': 1, 'rooftop': 1, 'party': 1, 'learn': 1, 'career': 1, 'building': 1, 'secrets': 1, 'entrepreneur': 1, 'heart': 1}\n"
          ]
        }
      ]
    },
    {
      "cell_type": "code",
      "metadata": {
        "colab": {
          "base_uri": "https://localhost:8080/"
        },
        "id": "Dgn3lYSweCvj",
        "outputId": "29f2e9eb-c82d-49b5-dd01-6b0ed06fceb1"
      },
      "source": [
        "max_freq = max(word_freq.values())\n",
        "print(max_freq)"
      ],
      "execution_count": 81,
      "outputs": [
        {
          "output_type": "stream",
          "name": "stdout",
          "text": [
            "2\n"
          ]
        }
      ]
    },
    {
      "cell_type": "code",
      "metadata": {
        "id": "PoCPpEewfKRq"
      },
      "source": [
        "for word in word_freq.keys():\n",
        "  word_freq[word] = word_freq[word]/max_freq"
      ],
      "execution_count": 82,
      "outputs": []
    },
    {
      "cell_type": "code",
      "metadata": {
        "colab": {
          "base_uri": "https://localhost:8080/"
        },
        "id": "NHRKN43-f4W8",
        "outputId": "e16f37f3-88c7-449d-8b4a-0aebd8a89ae2"
      },
      "source": [
        "print(word_freq)"
      ],
      "execution_count": 83,
      "outputs": [
        {
          "output_type": "stream",
          "name": "stdout",
          "text": [
            "{'Maria': 1.0, 'Sharapova': 1.0, 'world': 0.5, 'tennis': 0.5, 'players': 0.5, 'Grand': 0.5, 'Slam': 0.5, 'titles': 0.5, '22nd': 0.5, 'seed': 0.5, '2018': 0.5, 'U.S.': 0.5, 'Open': 0.5, 'won': 0.5, 'second': 0.5, 'round': 0.5, 'late': 0.5, 'Thursday': 0.5, 'night': 0.5, '—': 0.5, 'brilliant': 0.5, 'business': 0.5, 'woman': 0.5, 'net': 0.5, 'worth': 0.5, 'estimated': 0.5, 'high': 0.5, '195': 0.5, 'million': 1.0, 'earning': 0.5, '10': 0.5, 'nights': 0.5, 'ago': 0.5, 'chance': 0.5, 'interview': 0.5, 'headlined': 0.5, 'swanky': 0.5, 'Manhattan': 0.5, 'rooftop': 0.5, 'party': 0.5, 'learn': 0.5, 'career': 0.5, 'building': 0.5, 'secrets': 0.5, 'entrepreneur': 0.5, 'heart': 0.5}\n"
          ]
        }
      ]
    },
    {
      "cell_type": "code",
      "metadata": {
        "colab": {
          "base_uri": "https://localhost:8080/"
        },
        "id": "o10dwuxHf7NC",
        "outputId": "fd27711e-7424-4edf-a008-cc95f13a83e3"
      },
      "source": [
        "sent_tokens = [sent for sent in doc.sents]\n",
        "print(sent_tokens)"
      ],
      "execution_count": 84,
      "outputs": [
        {
          "output_type": "stream",
          "name": "stdout",
          "text": [
            "[Maria Sharapova is not just one of the world’s top tennis players., Maria Sharapova with five Grand Slam titles and the 22nd seed in the 2018 U.S. Open in which she won her second round late Thursday night —but a brilliant business woman with a net worth estimated to be high as $195 million and earning over $10 million., A few nights ago, I had the chance to interview her as she headlined a swanky Manhattan rooftop party, and to learn a few of her career-building secrets., Any entrepreneur would do well to take them to heart.]\n"
          ]
        }
      ]
    },
    {
      "cell_type": "code",
      "metadata": {
        "colab": {
          "base_uri": "https://localhost:8080/"
        },
        "id": "oaX4vw6hiG8u",
        "outputId": "5e89a15c-62fe-4c2c-8cb6-2abc1e02b697"
      },
      "source": [
        "for sent in sent_tokens:\n",
        "  for word in sent:\n",
        "    print(word)"
      ],
      "execution_count": 85,
      "outputs": [
        {
          "output_type": "stream",
          "name": "stdout",
          "text": [
            "Maria\n",
            "Sharapova\n",
            "is\n",
            "not\n",
            "just\n",
            "one\n",
            "of\n",
            "the\n",
            "world\n",
            "’s\n",
            "top\n",
            "tennis\n",
            "players\n",
            ".\n",
            "Maria\n",
            "Sharapova\n",
            "with\n",
            "five\n",
            "Grand\n",
            "Slam\n",
            "titles\n",
            "and\n",
            "the\n",
            "22nd\n",
            "seed\n",
            "in\n",
            "the\n",
            "2018\n",
            "U.S.\n",
            "Open\n",
            "in\n",
            "which\n",
            "she\n",
            "won\n",
            "her\n",
            "second\n",
            "round\n",
            "late\n",
            "Thursday\n",
            "night\n",
            "—\n",
            "but\n",
            "a\n",
            "brilliant\n",
            "business\n",
            "woman\n",
            "with\n",
            "a\n",
            "net\n",
            "worth\n",
            "estimated\n",
            "to\n",
            "be\n",
            "high\n",
            "as\n",
            "$\n",
            "195\n",
            "million\n",
            "and\n",
            "earning\n",
            "over\n",
            "$\n",
            "10\n",
            "million\n",
            ".\n",
            "A\n",
            "few\n",
            "nights\n",
            "ago\n",
            ",\n",
            "I\n",
            "had\n",
            "the\n",
            "chance\n",
            "to\n",
            "interview\n",
            "her\n",
            "as\n",
            "she\n",
            "headlined\n",
            "a\n",
            "swanky\n",
            "Manhattan\n",
            "rooftop\n",
            "party\n",
            ",\n",
            "and\n",
            "to\n",
            "learn\n",
            "a\n",
            "few\n",
            "of\n",
            "her\n",
            "career\n",
            "-\n",
            "building\n",
            "secrets\n",
            ".\n",
            "Any\n",
            "entrepreneur\n",
            "would\n",
            "do\n",
            "well\n",
            "to\n",
            "take\n",
            "them\n",
            "to\n",
            "heart\n",
            ".\n"
          ]
        }
      ]
    },
    {
      "cell_type": "code",
      "metadata": {
        "id": "aUJjLkAbiYAY"
      },
      "source": [
        "sent_score = {}\n",
        "for sent in sent_tokens:\n",
        "  for word in sent:\n",
        "    if word.text.lower() in word_freq.keys():\n",
        "      if sent not in sent_score.keys():\n",
        "        sent_score[sent] = word_freq[word.text.lower()]\n",
        "      else:\n",
        "        sent_score[sent] += word_freq[word.text.lower()]\n"
      ],
      "execution_count": 86,
      "outputs": []
    },
    {
      "cell_type": "code",
      "metadata": {
        "colab": {
          "base_uri": "https://localhost:8080/"
        },
        "id": "HVdfNpiZA4Op",
        "outputId": "f089dd4d-f3c5-4fd9-b020-8146ed0b07b6"
      },
      "source": [
        "print(sent_score)"
      ],
      "execution_count": 87,
      "outputs": [
        {
          "output_type": "stream",
          "name": "stdout",
          "text": [
            "{Maria Sharapova is not just one of the world’s top tennis players.: 1.5, Maria Sharapova with five Grand Slam titles and the 22nd seed in the 2018 U.S. Open in which she won her second round late Thursday night —but a brilliant business woman with a net worth estimated to be high as $195 million and earning over $10 million.: 12.0, A few nights ago, I had the chance to interview her as she headlined a swanky Manhattan rooftop party, and to learn a few of her career-building secrets.: 6.0, Any entrepreneur would do well to take them to heart.: 1.0}\n"
          ]
        }
      ]
    },
    {
      "cell_type": "code",
      "metadata": {
        "id": "kWvlDurzA99F"
      },
      "source": [
        "from heapq import nlargest"
      ],
      "execution_count": 88,
      "outputs": []
    },
    {
      "cell_type": "code",
      "metadata": {
        "colab": {
          "base_uri": "https://localhost:8080/"
        },
        "id": "e35iYR6ABbFT",
        "outputId": "8366ab46-d282-4dcc-fdd4-be872b02c1c3"
      },
      "source": [
        "len(sent_score)*0.3"
      ],
      "execution_count": 89,
      "outputs": [
        {
          "output_type": "execute_result",
          "data": {
            "text/plain": [
              "1.2"
            ]
          },
          "metadata": {},
          "execution_count": 89
        }
      ]
    },
    {
      "cell_type": "code",
      "metadata": {
        "id": "PHBvusm4BeQl"
      },
      "source": [
        "summary = nlargest(n=2, iterable=sent_score, key= sent_score.get)"
      ],
      "execution_count": 90,
      "outputs": []
    },
    {
      "cell_type": "code",
      "metadata": {
        "colab": {
          "base_uri": "https://localhost:8080/"
        },
        "id": "cW7t68h0B_aV",
        "outputId": "09c85190-9767-42b8-b24d-87cb391af205"
      },
      "source": [
        "print(summary)"
      ],
      "execution_count": 91,
      "outputs": [
        {
          "output_type": "stream",
          "name": "stdout",
          "text": [
            "[Maria Sharapova with five Grand Slam titles and the 22nd seed in the 2018 U.S. Open in which she won her second round late Thursday night —but a brilliant business woman with a net worth estimated to be high as $195 million and earning over $10 million., A few nights ago, I had the chance to interview her as she headlined a swanky Manhattan rooftop party, and to learn a few of her career-building secrets.]\n"
          ]
        }
      ]
    },
    {
      "cell_type": "code",
      "metadata": {
        "id": "9Kii1VxSCFSi"
      },
      "source": [
        "final_summary = [word.text for word in summary]"
      ],
      "execution_count": 92,
      "outputs": []
    },
    {
      "cell_type": "code",
      "metadata": {
        "colab": {
          "base_uri": "https://localhost:8080/"
        },
        "id": "3cf0J3nTC_zm",
        "outputId": "308f1e0e-1e36-44dc-d192-f45fbb9caf20"
      },
      "source": [
        "print(final_summary)"
      ],
      "execution_count": 93,
      "outputs": [
        {
          "output_type": "stream",
          "name": "stdout",
          "text": [
            "['Maria Sharapova with five Grand Slam titles and the 22nd seed in the 2018 U.S. Open in which she won her second round late Thursday night —but a brilliant business woman with a net worth estimated to be high as $195 million and earning over $10 million.', 'A few nights ago, I had the chance to interview her as she headlined a swanky Manhattan rooftop party, and to learn a few of her career-building secrets.']\n"
          ]
        }
      ]
    },
    {
      "cell_type": "code",
      "metadata": {
        "id": "9E8tJemQDBeQ"
      },
      "source": [
        "summary = \" \".join(final_summary)"
      ],
      "execution_count": 94,
      "outputs": []
    },
    {
      "cell_type": "code",
      "metadata": {
        "colab": {
          "base_uri": "https://localhost:8080/"
        },
        "id": "cnkS7d7WDJfY",
        "outputId": "2dd5c5a9-8c68-4bd7-8000-6d53a91618d8"
      },
      "source": [
        "print(summary)"
      ],
      "execution_count": 95,
      "outputs": [
        {
          "output_type": "stream",
          "name": "stdout",
          "text": [
            "Maria Sharapova with five Grand Slam titles and the 22nd seed in the 2018 U.S. Open in which she won her second round late Thursday night —but a brilliant business woman with a net worth estimated to be high as $195 million and earning over $10 million. A few nights ago, I had the chance to interview her as she headlined a swanky Manhattan rooftop party, and to learn a few of her career-building secrets.\n"
          ]
        }
      ]
    },
    {
      "cell_type": "code",
      "metadata": {
        "colab": {
          "base_uri": "https://localhost:8080/"
        },
        "id": "twkjTjNBDPtX",
        "outputId": "21af7379-ec55-43c2-e3be-53c0c7023806"
      },
      "source": [
        "len(summary)"
      ],
      "execution_count": 96,
      "outputs": [
        {
          "output_type": "execute_result",
          "data": {
            "text/plain": [
              "407"
            ]
          },
          "metadata": {},
          "execution_count": 96
        }
      ]
    },
    {
      "cell_type": "code",
      "metadata": {
        "colab": {
          "base_uri": "https://localhost:8080/"
        },
        "id": "4P37d63GDuSq",
        "outputId": "7301719e-afe5-4167-8869-27e9d0c6a904"
      },
      "source": [
        "len(summary)/len(text)"
      ],
      "execution_count": 97,
      "outputs": [
        {
          "output_type": "execute_result",
          "data": {
            "text/plain": [
              "0.7722960151802657"
            ]
          },
          "metadata": {},
          "execution_count": 97
        }
      ]
    },
    {
      "cell_type": "code",
      "metadata": {
        "id": "po-nkUpBDySH"
      },
      "source": [
        ""
      ],
      "execution_count": null,
      "outputs": []
    }
  ]
}